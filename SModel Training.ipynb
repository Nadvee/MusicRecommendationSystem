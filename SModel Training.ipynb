{
 "cells": [
  {
   "cell_type": "code",
   "execution_count": 1,
   "id": "3e317704-7b72-4f7a-869e-77a91beac361",
   "metadata": {},
   "outputs": [],
   "source": [
    "import pandas as pd"
   ]
  },
  {
   "cell_type": "code",
   "execution_count": 8,
   "id": "9b8cb8b6-26bc-435c-979f-eeef8fc2215f",
   "metadata": {},
   "outputs": [],
   "source": [
    "df = pd.read_csv(\"spotify_millsongdata.csv\")"
   ]
  },
  {
   "cell_type": "code",
   "execution_count": 9,
   "id": "d630755d-5fdc-4e02-875a-32686132b210",
   "metadata": {},
   "outputs": [
    {
     "data": {
      "text/html": [
       "<div>\n",
       "<style scoped>\n",
       "    .dataframe tbody tr th:only-of-type {\n",
       "        vertical-align: middle;\n",
       "    }\n",
       "\n",
       "    .dataframe tbody tr th {\n",
       "        vertical-align: top;\n",
       "    }\n",
       "\n",
       "    .dataframe thead th {\n",
       "        text-align: right;\n",
       "    }\n",
       "</style>\n",
       "<table border=\"1\" class=\"dataframe\">\n",
       "  <thead>\n",
       "    <tr style=\"text-align: right;\">\n",
       "      <th></th>\n",
       "      <th>artist</th>\n",
       "      <th>song</th>\n",
       "      <th>link</th>\n",
       "      <th>text</th>\n",
       "    </tr>\n",
       "  </thead>\n",
       "  <tbody>\n",
       "    <tr>\n",
       "      <th>0</th>\n",
       "      <td>ABBA</td>\n",
       "      <td>Ahe's My Kind Of Girl</td>\n",
       "      <td>/a/abba/ahes+my+kind+of+girl_20598417.html</td>\n",
       "      <td>Look at her face, it's a wonderful face  \\r\\nA...</td>\n",
       "    </tr>\n",
       "    <tr>\n",
       "      <th>1</th>\n",
       "      <td>ABBA</td>\n",
       "      <td>Andante, Andante</td>\n",
       "      <td>/a/abba/andante+andante_20002708.html</td>\n",
       "      <td>Take it easy with me, please  \\r\\nTouch me gen...</td>\n",
       "    </tr>\n",
       "    <tr>\n",
       "      <th>2</th>\n",
       "      <td>ABBA</td>\n",
       "      <td>As Good As New</td>\n",
       "      <td>/a/abba/as+good+as+new_20003033.html</td>\n",
       "      <td>I'll never know why I had to go  \\r\\nWhy I had...</td>\n",
       "    </tr>\n",
       "    <tr>\n",
       "      <th>3</th>\n",
       "      <td>ABBA</td>\n",
       "      <td>Bang</td>\n",
       "      <td>/a/abba/bang_20598415.html</td>\n",
       "      <td>Making somebody happy is a question of give an...</td>\n",
       "    </tr>\n",
       "    <tr>\n",
       "      <th>4</th>\n",
       "      <td>ABBA</td>\n",
       "      <td>Bang-A-Boomerang</td>\n",
       "      <td>/a/abba/bang+a+boomerang_20002668.html</td>\n",
       "      <td>Making somebody happy is a question of give an...</td>\n",
       "    </tr>\n",
       "  </tbody>\n",
       "</table>\n",
       "</div>"
      ],
      "text/plain": [
       "  artist                   song                                        link  \\\n",
       "0   ABBA  Ahe's My Kind Of Girl  /a/abba/ahes+my+kind+of+girl_20598417.html   \n",
       "1   ABBA       Andante, Andante       /a/abba/andante+andante_20002708.html   \n",
       "2   ABBA         As Good As New        /a/abba/as+good+as+new_20003033.html   \n",
       "3   ABBA                   Bang                  /a/abba/bang_20598415.html   \n",
       "4   ABBA       Bang-A-Boomerang      /a/abba/bang+a+boomerang_20002668.html   \n",
       "\n",
       "                                                text  \n",
       "0  Look at her face, it's a wonderful face  \\r\\nA...  \n",
       "1  Take it easy with me, please  \\r\\nTouch me gen...  \n",
       "2  I'll never know why I had to go  \\r\\nWhy I had...  \n",
       "3  Making somebody happy is a question of give an...  \n",
       "4  Making somebody happy is a question of give an...  "
      ]
     },
     "execution_count": 9,
     "metadata": {},
     "output_type": "execute_result"
    }
   ],
   "source": [
    "df.head()"
   ]
  },
  {
   "cell_type": "code",
   "execution_count": 10,
   "id": "d03e84b2-7e69-4694-97a0-47a218072967",
   "metadata": {},
   "outputs": [
    {
     "data": {
      "text/plain": [
       "(57650, 4)"
      ]
     },
     "execution_count": 10,
     "metadata": {},
     "output_type": "execute_result"
    }
   ],
   "source": [
    "df.shape"
   ]
  },
  {
   "cell_type": "code",
   "execution_count": 11,
   "id": "186f1d2b-0068-4128-9ac7-7845b262add2",
   "metadata": {},
   "outputs": [
    {
     "data": {
      "text/plain": [
       "artist    0\n",
       "song      0\n",
       "link      0\n",
       "text      0\n",
       "dtype: int64"
      ]
     },
     "execution_count": 11,
     "metadata": {},
     "output_type": "execute_result"
    }
   ],
   "source": [
    "df.isnull().sum()"
   ]
  },
  {
   "cell_type": "code",
   "execution_count": 12,
   "id": "0e7fef6b-740d-47b3-a76c-30cd1e67916a",
   "metadata": {},
   "outputs": [],
   "source": [
    "df =df.sample(5000).drop('link', axis=1).reset_index(drop=True)"
   ]
  },
  {
   "cell_type": "code",
   "execution_count": 13,
   "id": "efd6b663-76b0-4008-b845-b03fc08d0697",
   "metadata": {},
   "outputs": [
    {
     "data": {
      "text/html": [
       "<div>\n",
       "<style scoped>\n",
       "    .dataframe tbody tr th:only-of-type {\n",
       "        vertical-align: middle;\n",
       "    }\n",
       "\n",
       "    .dataframe tbody tr th {\n",
       "        vertical-align: top;\n",
       "    }\n",
       "\n",
       "    .dataframe thead th {\n",
       "        text-align: right;\n",
       "    }\n",
       "</style>\n",
       "<table border=\"1\" class=\"dataframe\">\n",
       "  <thead>\n",
       "    <tr style=\"text-align: right;\">\n",
       "      <th></th>\n",
       "      <th>artist</th>\n",
       "      <th>song</th>\n",
       "      <th>text</th>\n",
       "    </tr>\n",
       "  </thead>\n",
       "  <tbody>\n",
       "    <tr>\n",
       "      <th>0</th>\n",
       "      <td>Eric Clapton</td>\n",
       "      <td>Hold On I'm Coming</td>\n",
       "      <td>Well, don't you ever be sad  \\r\\nLean on me wh...</td>\n",
       "    </tr>\n",
       "    <tr>\n",
       "      <th>1</th>\n",
       "      <td>Peter Gabriel</td>\n",
       "      <td>Don't Break This Rhythm</td>\n",
       "      <td>Don't break this rhythm, don't break this moti...</td>\n",
       "    </tr>\n",
       "    <tr>\n",
       "      <th>2</th>\n",
       "      <td>Westlife</td>\n",
       "      <td>Love Crime</td>\n",
       "      <td>I didn't know what to say  \\r\\nI tried to look...</td>\n",
       "    </tr>\n",
       "    <tr>\n",
       "      <th>3</th>\n",
       "      <td>Lauryn Hill</td>\n",
       "      <td>When It Hurts So Bad</td>\n",
       "      <td>When it hurts so bad (when it hurts so bad)  \\...</td>\n",
       "    </tr>\n",
       "    <tr>\n",
       "      <th>4</th>\n",
       "      <td>Boney M.</td>\n",
       "      <td>Bel Ami</td>\n",
       "      <td>He's a casanova (yeah yeah what'd I say?)  \\r\\...</td>\n",
       "    </tr>\n",
       "  </tbody>\n",
       "</table>\n",
       "</div>"
      ],
      "text/plain": [
       "          artist                     song  \\\n",
       "0   Eric Clapton       Hold On I'm Coming   \n",
       "1  Peter Gabriel  Don't Break This Rhythm   \n",
       "2       Westlife               Love Crime   \n",
       "3    Lauryn Hill     When It Hurts So Bad   \n",
       "4       Boney M.                  Bel Ami   \n",
       "\n",
       "                                                text  \n",
       "0  Well, don't you ever be sad  \\r\\nLean on me wh...  \n",
       "1  Don't break this rhythm, don't break this moti...  \n",
       "2  I didn't know what to say  \\r\\nI tried to look...  \n",
       "3  When it hurts so bad (when it hurts so bad)  \\...  \n",
       "4  He's a casanova (yeah yeah what'd I say?)  \\r\\...  "
      ]
     },
     "execution_count": 13,
     "metadata": {},
     "output_type": "execute_result"
    }
   ],
   "source": [
    "df.head()"
   ]
  },
  {
   "cell_type": "code",
   "execution_count": 14,
   "id": "d749881e-9ca5-4048-86b8-ed92d1d1455f",
   "metadata": {},
   "outputs": [
    {
     "data": {
      "text/plain": [
       "\"Well, don't you ever be sad  \\r\\nLean on me when times are bad  \\r\\nWhen the day comes and you're in doubt  \\r\\nIn a river of trouble, about to drown  \\r\\n  \\r\\nHold on, hold on, I'm coming, I'm coming  \\r\\nHold on, hold on, I'm coming, I'm coming  \\r\\n  \\r\\nI'm on my way, your lover  \\r\\nWhen you get cold, yeah, I'll be your cover  \\r\\nDon't have to worry because I'm here  \\r\\nDon't need to suffer because I'm here  \\r\\n  \\r\\nHold on, hold on, I'm coming, I'm coming  \\r\\nHold on, hold on, I'm coming, I'm coming  \\r\\nHold on, hold on, I'm coming, I'm coming  \\r\\nHold on, hold on, I'm coming, I'm coming  \\r\\n  \\r\\nReach out to me for satisfaction  \\r\\nCall my name, quick reaction  \\r\\n  \\r\\nWell, don't you ever feel sad  \\r\\nLean on me when times are bad  \\r\\nWhen the day comes and you're in doubt  \\r\\nIn a river of trouble and about to drown  \\r\\n  \\r\\nHold on, hold on, I'm coming, I'm coming  \\r\\nHold on, hold on, I'm coming, I'm coming  \\r\\nHold on, hold on, I'm coming, I'm coming  \\r\\nHold on, hold on, I'm coming, I'm coming  \\r\\n  \\r\\nHold on, hold on, I'm coming, I'm coming  \\r\\nHold on, hold on, I'm coming, I'm coming  \\r\\nHold on, hold on, I'm coming, I'm coming  \\r\\nHold on, hold on, I'm coming, I'm coming\\r\\n\\r\\n\""
      ]
     },
     "execution_count": 14,
     "metadata": {},
     "output_type": "execute_result"
    }
   ],
   "source": [
    "df['text'][0]"
   ]
  },
  {
   "cell_type": "code",
   "execution_count": 15,
   "id": "c8c250cc-0ade-4034-9f4f-16a8a3f6ae7c",
   "metadata": {},
   "outputs": [],
   "source": [
    "#df = df.sample(5000)"
   ]
  },
  {
   "cell_type": "code",
   "execution_count": 16,
   "id": "72d0acd6-5467-4920-b24a-184b4bcc482c",
   "metadata": {},
   "outputs": [
    {
     "data": {
      "text/plain": [
       "(5000, 3)"
      ]
     },
     "execution_count": 16,
     "metadata": {},
     "output_type": "execute_result"
    }
   ],
   "source": [
    "df.shape"
   ]
  },
  {
   "cell_type": "markdown",
   "id": "cf95d8e7-6f7c-4e44-a4eb-dd7a6d164c01",
   "metadata": {},
   "source": [
    "# Text Cleaning/ Text Preprocessing\n"
   ]
  },
  {
   "cell_type": "code",
   "execution_count": 17,
   "id": "0b8102b7-0978-4463-9cff-0db99462e664",
   "metadata": {},
   "outputs": [],
   "source": [
    "df['text'] = df['text'].str.lower().replace(r'^\\w\\s', ' ').replace(r'\\n', ' ', regex = True)"
   ]
  },
  {
   "cell_type": "code",
   "execution_count": 43,
   "id": "b8665f8d-50e0-4878-bcdc-ed70c9020f8a",
   "metadata": {},
   "outputs": [],
   "source": [
    "import nltk\n",
    "from nltk.stem.porter import PorterStemmer\n",
    "stemmer = PorterStemmer()\n",
    "\n",
    "def tokenization(txt):\n",
    "    tokens = nltk.word_tokenize(txt)\n",
    "    stemming = [stemmer.stem(w) for w in tokens]\n",
    "    return \" \".join(stemming)"
   ]
  },
  {
   "cell_type": "code",
   "execution_count": 44,
   "id": "9f459dd6-b700-452e-abf3-fcbc30b2c464",
   "metadata": {},
   "outputs": [],
   "source": [
    "df['text'] = df['text'].apply(lambda x: tokenization(x))"
   ]
  },
  {
   "cell_type": "code",
   "execution_count": 46,
   "id": "844e5f15-116a-40a7-8f5c-cb060e934ee9",
   "metadata": {},
   "outputs": [],
   "source": [
    "from sklearn.feature_extraction.text import TfidfVectorizer\n",
    "from sklearn.metrics.pairwise import cosine_similarity"
   ]
  },
  {
   "cell_type": "code",
   "execution_count": 47,
   "id": "1683fa0b-031a-408d-9d2f-e57ca28cfdcc",
   "metadata": {},
   "outputs": [],
   "source": [
    "tfidvector = TfidfVectorizer(analyzer='word',stop_words='english')\n",
    "matrix = tfidvector.fit_transform(df['text'])\n",
    "similarity = cosine_similarity(matrix)"
   ]
  },
  {
   "cell_type": "code",
   "execution_count": 48,
   "id": "bc976469-f13f-464b-9144-04803f65c936",
   "metadata": {},
   "outputs": [
    {
     "data": {
      "text/plain": [
       "array([1.        , 0.0275174 , 0.02964029, ..., 0.01921103, 0.02715013,\n",
       "       0.00476966])"
      ]
     },
     "execution_count": 48,
     "metadata": {},
     "output_type": "execute_result"
    }
   ],
   "source": [
    "similarity[0]"
   ]
  },
  {
   "cell_type": "code",
   "execution_count": 66,
   "id": "6faf7f3b-4803-46e9-84a5-187f33462bb0",
   "metadata": {},
   "outputs": [
    {
     "data": {
      "text/html": [
       "<div>\n",
       "<style scoped>\n",
       "    .dataframe tbody tr th:only-of-type {\n",
       "        vertical-align: middle;\n",
       "    }\n",
       "\n",
       "    .dataframe tbody tr th {\n",
       "        vertical-align: top;\n",
       "    }\n",
       "\n",
       "    .dataframe thead th {\n",
       "        text-align: right;\n",
       "    }\n",
       "</style>\n",
       "<table border=\"1\" class=\"dataframe\">\n",
       "  <thead>\n",
       "    <tr style=\"text-align: right;\">\n",
       "      <th></th>\n",
       "      <th>artist</th>\n",
       "      <th>song</th>\n",
       "      <th>text</th>\n",
       "    </tr>\n",
       "  </thead>\n",
       "  <tbody>\n",
       "  </tbody>\n",
       "</table>\n",
       "</div>"
      ],
      "text/plain": [
       "Empty DataFrame\n",
       "Columns: [artist, song, text]\n",
       "Index: []"
      ]
     },
     "execution_count": 66,
     "metadata": {},
     "output_type": "execute_result"
    }
   ],
   "source": [
    "df[df['song']=='Waiting For The Man']"
   ]
  },
  {
   "cell_type": "code",
   "execution_count": 68,
   "id": "91799bd0-2250-4b1a-a332-41a3fbc86539",
   "metadata": {},
   "outputs": [
    {
     "name": "stdout",
     "output_type": "stream",
     "text": [
      "82\n"
     ]
    }
   ],
   "source": [
    "filtered_df = df[df['song'] == 'Waiting For The Man'].index[0]\n",
    "\n",
    "# Display the filtered DataFrame\n",
    "print(filtered_df)"
   ]
  },
  {
   "cell_type": "code",
   "execution_count": 69,
   "id": "b4e08e3c-d35d-443d-8d4b-029c6bc9cff5",
   "metadata": {},
   "outputs": [],
   "source": [
    "def recommendation(song_df):\n",
    "    idx = df[df['song'] == song_df].index[0]\n",
    "    distances = sorted(list(enumerate(similarity[idx])),reverse=True,key=lambda x:x[1])\n",
    "    \n",
    "    songs = []\n",
    "    for m_id in distances[1:21]:\n",
    "        songs.append(df.iloc[m_id[0]].song)\n",
    "        \n",
    "    return songs"
   ]
  },
  {
   "cell_type": "code",
   "execution_count": 70,
   "id": "9dead7f7-3e04-4931-90c2-b1ae4f29f0ad",
   "metadata": {},
   "outputs": [
    {
     "data": {
      "text/plain": [
       "['Gone Too Long',\n",
       " 'Love Me Tonight',\n",
       " 'Long Gone And Moved On',\n",
       " \"My Baby's Gone\",\n",
       " 'Get Down, Make Love',\n",
       " \"Burnin' Up\",\n",
       " 'I Just Want To Make Love To You',\n",
       " \"I'll Love You For A While\",\n",
       " 'I Love Making Love To You',\n",
       " 'Are You Gonna Love Me',\n",
       " 'No One Can Love You More',\n",
       " 'You Give Me Love',\n",
       " 'Loving You Tonight',\n",
       " 'Baby I Love You',\n",
       " 'Love Remains',\n",
       " 'The Goods Gone',\n",
       " 'Live It Up Tonight',\n",
       " 'Who Do You Love',\n",
       " 'Lost In Love',\n",
       " 'Gone With The Wind']"
      ]
     },
     "execution_count": 70,
     "metadata": {},
     "output_type": "execute_result"
    }
   ],
   "source": [
    "recommendation('Waiting For The Man')"
   ]
  },
  {
   "cell_type": "code",
   "execution_count": 71,
   "id": "c4d93d53-c91a-4612-b315-93b0897f3721",
   "metadata": {},
   "outputs": [],
   "source": [
    "import pickle\n",
    "pickle.dump(similarity,open('similarity.pkl','wb'))\n",
    "pickle.dump(df,open('df.pkl','wb'))"
   ]
  },
  {
   "cell_type": "code",
   "execution_count": null,
   "id": "edec0958-090a-4c0c-b1bf-ef88b6534ea6",
   "metadata": {},
   "outputs": [],
   "source": []
  }
 ],
 "metadata": {
  "kernelspec": {
   "display_name": "Python 3 (ipykernel)",
   "language": "python",
   "name": "python3"
  },
  "language_info": {
   "codemirror_mode": {
    "name": "ipython",
    "version": 3
   },
   "file_extension": ".py",
   "mimetype": "text/x-python",
   "name": "python",
   "nbconvert_exporter": "python",
   "pygments_lexer": "ipython3",
   "version": "3.12.3"
  }
 },
 "nbformat": 4,
 "nbformat_minor": 5
}
